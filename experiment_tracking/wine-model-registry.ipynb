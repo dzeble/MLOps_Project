{
 "cells": [
  {
   "cell_type": "code",
   "execution_count": 1,
   "metadata": {},
   "outputs": [],
   "source": [
    "from mlflow.tracking import MlflowClient\n",
    "\n",
    "MLFLOW_TRACKING_URI = \"sqlite:///mlflow.db\"\n",
    "\n",
    "client = MlflowClient(tracking_uri=MLFLOW_TRACKING_URI)"
   ]
  },
  {
   "cell_type": "code",
   "execution_count": 3,
   "metadata": {},
   "outputs": [
    {
     "data": {
      "text/plain": [
       "<Experiment: artifact_location='/mnt/c/Users/Dev/desktop/mlops_project/experiment_tracking/mlruns/0', creation_time=1705920879772, experiment_id='0', last_update_time=1705920879772, lifecycle_stage='active', name='Default', tags={}>"
      ]
     },
     "execution_count": 3,
     "metadata": {},
     "output_type": "execute_result"
    }
   ],
   "source": [
    "client.get_experiment_by_name(\"Default\")"
   ]
  },
  {
   "cell_type": "code",
   "execution_count": 4,
   "metadata": {},
   "outputs": [],
   "source": [
    "from mlflow.entities import ViewType\n",
    "\n",
    "runs = client.search_runs(\n",
    "    experiment_ids=\"1\",\n",
    "    filter_string=\"\",\n",
    "    run_view_type=ViewType.ACTIVE_ONLY,\n",
    "    max_results=5,\n",
    "    order_by=[\"metrics.rmse ASC\"]\n",
    ")"
   ]
  },
  {
   "cell_type": "code",
   "execution_count": 10,
   "metadata": {},
   "outputs": [
    {
     "name": "stdout",
     "output_type": "stream",
     "text": [
      "run_id: 4ccc503e819a44c5b5ce862c421a6ab6, rmse: 0.0569,accuracy: 0.9958,model: ExtraTreesClassifier\n",
      "run_id: deb4d19603c747438a006c497f117c2a, rmse: 0.0582,accuracy: 0.9956,model: RandomForestClassifier\n",
      "run_id: 991d6c3b744247608d9a3401e9515e36, rmse: 0.0594,accuracy: 0.9954,model: xgboost\n",
      "run_id: 972efc8246b347e8beb77b09ad439e4d, rmse: 0.0597,accuracy: 0.9953,model: xgboost\n",
      "run_id: 9188c8c64da648f0937e8f22723deb3a, rmse: 0.0597,accuracy: 0.9953,model: xgboost\n"
     ]
    }
   ],
   "source": [
    "for run in runs:\n",
    "    print(f\"run_id: {run.info.run_id}, rmse: {run.data.metrics['rmse']:.4f},accuracy: {run.data.metrics['accuracy']:.4f},model: {run.data.tags['model']}\")"
   ]
  },
  {
   "cell_type": "code",
   "execution_count": 37,
   "metadata": {},
   "outputs": [],
   "source": [
    "from sklearn.metrics import mean_squared_error,r2_score\n",
    "import pandas as pd\n",
    "from sklearn.preprocessing import OneHotEncoder\n",
    "from sklearn.preprocessing import LabelEncoder\n",
    "import mlflow\n",
    "\n",
    "def read_dafaframe(filename):\n",
    "    df = pd.read_csv(filename)\n",
    "\n",
    "    le = LabelEncoder()\n",
    "    df['type'] = le.fit_transform(df['type'])\n",
    "\n",
    "    encoder = OneHotEncoder()\n",
    "    encoded_types = encoder.fit_transform(df['type'].values.reshape(-1, 1))\n",
    "\n",
    "    label = le.classes_.tolist()\n",
    "    wine_types = pd.DataFrame(encoded_types.toarray(), columns=label)\n",
    "\n",
    "    df = pd.concat([df, wine_types], axis=1)\n",
    "\n",
    "    for col, value in df.items():\n",
    "        if col != 'type':\n",
    "            df[col] = df[col].fillna(df[col].mean())\n",
    "\n",
    "    return df\n",
    "\n",
    "\n",
    "def process(df):\n",
    "    df_dict =  df.drop(columns=['type','quality'])\n",
    "    X = df_dict\n",
    "\n",
    "    # target = 'quality'\n",
    "    # y = df[target].values\n",
    "\n",
    "    return X\n"
   ]
  },
  {
   "cell_type": "code",
   "execution_count": 13,
   "metadata": {},
   "outputs": [],
   "source": [
    "run_id = '4ccc503e819a44c5b5ce862c421a6ab6'\n",
    "\n",
    "df = read_dafaframe(\"wine_data/test_wine_data.csv\")"
   ]
  },
  {
   "cell_type": "code",
   "execution_count": 14,
   "metadata": {},
   "outputs": [
    {
     "name": "stderr",
     "output_type": "stream",
     "text": [
      "/home/sven/anaconda3/envs/exp-tracking-env/lib/python3.9/site-packages/tqdm/auto.py:21: TqdmWarning: IProgress not found. Please update jupyter and ipywidgets. See https://ipywidgets.readthedocs.io/en/stable/user_install.html\n",
      "  from .autonotebook import tqdm as notebook_tqdm\n",
      "Downloading artifacts: 100%|██████████| 5/5 [00:08<00:00,  1.64s/it]  \n"
     ]
    },
    {
     "data": {
      "text/plain": [
       "'/mnt/c/Users/Dev/desktop/mlops_project/experiment_tracking/model'"
      ]
     },
     "execution_count": 14,
     "metadata": {},
     "output_type": "execute_result"
    }
   ],
   "source": [
    "client.download_artifacts(run_id=run_id, path='model', dst_path='.')"
   ]
  },
  {
   "cell_type": "code",
   "execution_count": 16,
   "metadata": {},
   "outputs": [],
   "source": [
    "X_test = process(df)"
   ]
  },
  {
   "cell_type": "code",
   "execution_count": 17,
   "metadata": {},
   "outputs": [],
   "source": [
    "target = 'quality'\n",
    "y_test = df[target].values"
   ]
  },
  {
   "cell_type": "code",
   "execution_count": 36,
   "metadata": {},
   "outputs": [
    {
     "data": {
      "text/plain": [
       "[<RegisteredModel: aliases={}, creation_timestamp=1706190964573, description='Model Registry for Wine Quality\\n', last_updated_timestamp=1706198868264, latest_versions=[<ModelVersion: aliases=[], creation_timestamp=1706190967102, current_stage='Production', description='', last_updated_timestamp=1706198868264, name='Wine-Quality-Register', run_id='4ccc503e819a44c5b5ce862c421a6ab6', run_link='', source='/mnt/c/Users/Dev/desktop/mlops_project/experiment_tracking/mlruns/1/4ccc503e819a44c5b5ce862c421a6ab6/artifacts/model', status='READY', status_message=None, tags={'Model': 'ExtraTreesClassifier'}, user_id=None, version=1>,\n",
       "  <ModelVersion: aliases=[], creation_timestamp=1706191013431, current_stage='Staging', description='', last_updated_timestamp=1706191824623, name='Wine-Quality-Register', run_id='972efc8246b347e8beb77b09ad439e4d', run_link='', source='/mnt/c/Users/Dev/desktop/mlops_project/experiment_tracking/mlruns/1/972efc8246b347e8beb77b09ad439e4d/artifacts/models_mlflow', status='READY', status_message=None, tags={'Model': 'Xgboost'}, user_id=None, version=3>], name='Wine-Quality-Register', tags={'Created by': 'Sven'}>]"
      ]
     },
     "execution_count": 36,
     "metadata": {},
     "output_type": "execute_result"
    }
   ],
   "source": [
    "client.search_registered_models()"
   ]
  },
  {
   "cell_type": "code",
   "execution_count": null,
   "metadata": {},
   "outputs": [],
   "source": []
  }
 ],
 "metadata": {
  "kernelspec": {
   "display_name": "exp-tracking-env",
   "language": "python",
   "name": "python3"
  },
  "language_info": {
   "codemirror_mode": {
    "name": "ipython",
    "version": 3
   },
   "file_extension": ".py",
   "mimetype": "text/x-python",
   "name": "python",
   "nbconvert_exporter": "python",
   "pygments_lexer": "ipython3",
   "version": "3.9.18"
  }
 },
 "nbformat": 4,
 "nbformat_minor": 2
}
